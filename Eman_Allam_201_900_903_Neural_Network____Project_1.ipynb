{
  "cells": [
    {
      "cell_type": "markdown",
      "id": "060a6423",
      "metadata": {
        "id": "060a6423"
      },
      "source": [
        "## Project #1\n",
        "## Create a Neural Network In Python"
      ]
    },
    {
      "cell_type": "code",
      "source": [
        "import numpy as np\n",
        "from numpy.matrixlib.defmatrix import concatenate\n",
        "import pandas as pd\n",
        "from sklearn.preprocessing import StandardScaler\n",
        "from sklearn.datasets import make_regression\n",
        "import random\n",
        "import matplotlib.pyplot as plt\n",
        "import keras\n",
        "from keras.datasets import mnist\n",
        "from keras.utils import np_utils"
      ],
      "metadata": {
        "id": "lOVa9l2oZMcu"
      },
      "id": "lOVa9l2oZMcu",
      "execution_count": null,
      "outputs": []
    },
    {
      "cell_type": "code",
      "execution_count": null,
      "id": "9e2d06c1",
      "metadata": {
        "id": "9e2d06c1"
      },
      "outputs": [],
      "source": [
        "class NeuralNetwork:\n",
        "    def __init__(self, layers_dim, learning_factor):\n",
        "      self.eta = learning_factor\n",
        "      self.layers_dim = layers_dim\n",
        "      self.nodesNo = sum(self.layers_dim)\n",
        "      self.layersNo = len(self.layers_dim)\n",
        "      self.model = {\"l\" + str(i):\n",
        "                   {\"W\": np.random.random((self.layers_dim[i], self.layers_dim[i-1])), \n",
        "                    \"G\": np.zeros([self.layers_dim[i], self.layers_dim[i-1]]), \n",
        "                    \"O\": np.zeros([self.layers_dim[i], 1]), \n",
        "                    \"N\": np.zeros([self.layers_dim[i], 1]),\n",
        "                    \"D\": np.zeros([self.layers_dim[i], 1])} for i in range(1, self.layersNo)}\n",
        "\n",
        "    def sigmoid(self, x):\n",
        "        return 1 / (1 + np.exp(-x))\n",
        "\n",
        "    def sigmoid_deriv(self, x):\n",
        "        return self.sigmoid(x) * (1 - self.sigmoid(x))\n",
        "\n",
        "    def forwardPropagation(self, train_data):\n",
        "      for i in range(1, self.layersNo):\n",
        "        for j in range(0, self.layers_dim[i]):\n",
        "          for k in range(0, self.layers_dim[i-1]):\n",
        "            if i == 1:\n",
        "              self.model[\"l\" + str(i)][\"N\"][j,1] = self.model[\"l\" + str(i)][\"N\"][j,1] + self.model[\"l\" + str(i)][\"W\"][j,k] * train_data[:, k]\n",
        "              self.model[\"l\" + str(i)][\"O\"][j,1] = self.sigmoid(self.model[\"l\" + str(i)][\"N\"][j,1])\n",
        "            else:\n",
        "              self.model[\"l\" + str(i)][\"N\"][j,1] = self.model[\"l\" + str(i)][\"N\"][j,1] + self.model[\"l\" + str(i)][\"W\"][j,k] * self.model[\"l\" + str(i-1)][\"O\"][:, k]\n",
        "              self.model[\"l\" + str(i)][\"O\"][j,1] = self.sigmoid(self.model[\"l\" + str(i)][\"N\"][j,1])\n",
        "      return self.model\n",
        "        \n",
        "    def backwardPropagation(self, target):\n",
        "      for i in range(self.layersNo -1,0,-1):\n",
        "        for j in range(self.layers_dim[i]-1,-1,-1):\n",
        "          if i == self.layersNo -1:\n",
        "              self.model[\"l\" + str(i)][\"D\"][j, 1] = (target[j] - self.model[\"l\" + str(i)][\"O\"][j, 1]) * self.model[\"l\" + str(i)][\"O\"][j, 1] * (1-self.model[\"l\" + str(i)][\"O\"][j, 1])\n",
        "              for k in len(self.model[\"l\" + str(i)][\"W\"][0]):\n",
        "                self.model[\"l\" + str(i)][\"W\"][j, k] = self.eta * self.model[\"l\" + str(i)][\"D\"][j, 1] * self.model[\"l\" + str(i)][\"O\"][k, 1]\n",
        "          else:\n",
        "            for k in range(0, self.layers_dim[i-1]):\n",
        "              self.model[\"l\" + str(i)][\"D\"][j, 1] = self.model[\"l\" + str(i)][\"D\"][j, 1] + self.model[\"l\" + str(i)][\"W\"][k, j] * self.model[\"l\" + str(i)][\"D\"][k, 1]\n",
        "\n",
        "            self.model[\"l\" + str(i)][\"D\"][j, 1] = self.model[\"l\" + str(i)][\"D\"][j, 1] * self.model[\"l\" + str(i)][\"O\"][j, 1] * (1-self.model[\"l\" + str(i)][\"O\"][j, 1])\n",
        "            for k in len(self.model[\"l\" + str(i)][\"W\"][0]):\n",
        "              self.model[\"l\" + str(i)][\"W\"][j, k] = self.eta * self.model[\"l\" + str(i)][\"D\"][j, 1] * self.model[\"l\" + str(i)][\"O\"][k, 1]\n",
        "    return self.model\n",
        "\n",
        "    def get_accuracy(self, actual, predicted1):\n",
        "      correct = 0\n",
        "      predicted=[]\n",
        "      for i in range(len(predicted)):\n",
        "        if actual[i] == predicted[i]:\n",
        "          correct += 1\n",
        "        return correct / float(len(actual)) * 100.0\n",
        "\n",
        "    def MSE(self, actual,predicted):\n",
        "      sum = 0  \n",
        "      n = len(actual) \n",
        "      for i in range (0,n):  \n",
        "        difference = actual[i] - predicted[i]  \n",
        "        squared_difference = difference**2  \n",
        "        sum = sum + squared_difference  \n",
        "        MSE = sum/n  \n",
        "      return MSE\n",
        "\n",
        "    def training_fit(self, X, Y, layersNO,LearningFactor,iterations,feature_vector_size,label_size):\n",
        "      actual=[]\n",
        "      for j in range(iterations):\n",
        "        predictions=[]\n",
        "        error=0\n",
        "        for i in range(len(X)):\n",
        "          model = forwardPropagation(X[i])\n",
        "          error+=MSE(model[\"l\" + str(i)][\"N\"][j,1],Y[i])\n",
        "          model= backwardPropagation(Y[i])\n",
        "          weights = model[\"l\" + str(i)][\"W\"]\n",
        "          predictions.append(make_predictions(model[\"l\" + str(i)][\"N\"][i],weights))\n",
        "        print(\"Error: \",error/len(X))\n",
        "    return model\n"
      ]
    },
    {
      "cell_type": "markdown",
      "id": "b2d01c92",
      "metadata": {
        "id": "b2d01c92"
      },
      "source": [
        "## Test your model on IRIS  dataset and MNIST Dataset"
      ]
    },
    {
      "cell_type": "code",
      "execution_count": null,
      "id": "b47c1af9",
      "metadata": {
        "id": "b47c1af9"
      },
      "outputs": [],
      "source": [
        "(x_train,y_train) , (x_test ,y_test) = keras.datasets.mnist.load_data() #Loading Dataset\n",
        "\n",
        "x_train = x_train[:1000,:,:]\n",
        "x_test = x_test[:100,:,:]\n",
        "y_train = y_train[:1000]\n",
        "y_test  = y_test[:100]\n",
        "\n",
        "y_train = y_train.reshape(y_train.shape[0],10)\n",
        "y_train = y_train.astype('float32')\n",
        "\n",
        "y_test = y_test.reshape(y_test.shape[0],10)\n",
        "y_test = y_test.astype('float32')\n",
        "\n",
        "x_train = x_train.reshape(x_train.shape[0], 28*28)\n",
        "x_train = x_train.astype('float32')\n",
        "\n",
        "x_test = x_test.reshape(x_test.shape[0], 28*28 )\n",
        "x_test = x_test.astype('float32')\n",
        "\n",
        "numberOf_layers=2\n",
        "obj = NeuralNetwork()\n",
        "obj.training_fit(x_train, y_train, numberOf_layers,2,30,784,10)"
      ]
    },
    {
      "cell_type": "markdown",
      "id": "ff0e3351",
      "metadata": {
        "id": "ff0e3351"
      },
      "source": [
        "## Refrence\n",
        "https://becominghuman.ai/understanding-neural-networks-2-the-math-of-neural-networks-in-3-equations-6085fd3f09df\n",
        "https://towardsdatascience.com/how-to-define-a-neural-network-as-a-mathematical-function-f7b820cde3f\n"
      ]
    }
  ],
  "metadata": {
    "kernelspec": {
      "display_name": "Python 3 (ipykernel)",
      "language": "python",
      "name": "python3"
    },
    "language_info": {
      "codemirror_mode": {
        "name": "ipython",
        "version": 3
      },
      "file_extension": ".py",
      "mimetype": "text/x-python",
      "name": "python",
      "nbconvert_exporter": "python",
      "pygments_lexer": "ipython3",
      "version": "3.8.12"
    },
    "colab": {
      "provenance": []
    }
  },
  "nbformat": 4,
  "nbformat_minor": 5
}